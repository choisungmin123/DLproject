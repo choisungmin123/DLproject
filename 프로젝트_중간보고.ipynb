{
  "nbformat": 4,
  "nbformat_minor": 0,
  "metadata": {
    "colab": {
      "provenance": [],
      "authorship_tag": "ABX9TyP1nad0OJ13xRInneeFyfJP",
      "include_colab_link": true
    },
    "kernelspec": {
      "name": "python3",
      "display_name": "Python 3"
    },
    "language_info": {
      "name": "python"
    }
  },
  "cells": [
    {
      "cell_type": "markdown",
      "metadata": {
        "id": "view-in-github",
        "colab_type": "text"
      },
      "source": [
        "<a href=\"https://colab.research.google.com/github/choisungmin123/DLproject/blob/main/%ED%94%84%EB%A1%9C%EC%A0%9D%ED%8A%B8_%EC%A4%91%EA%B0%84%EB%B3%B4%EA%B3%A0.ipynb\" target=\"_parent\"><img src=\"https://colab.research.google.com/assets/colab-badge.svg\" alt=\"Open In Colab\"/></a>"
      ]
    },
    {
      "cell_type": "markdown",
      "source": [
        "#프로젝트 중간보고\n",
        "\n",
        "##1. 프로젝트 개요\n",
        "프로젝트 이름 : 상황에 따라 변하는 주택가격 예측 프로그램 만들기\n",
        "작성자 : 최성민\n",
        "##2. 배경 및 필요성\n",
        "수많은 요소에 따라 변하는 주택가격을 한눈에 파악하고 예측하기 위함\n",
        "##3. 모델 설명\n",
        "\n",
        "##EDA (탐색적 데이터 분석) 진행\n",
        "\n",
        "EDA(탐색적 데이터 분석) 을 통해 데이터의 특징에 대해 좀 더 세부적으로 알아보고\n",
        "데이터의 문제점이나 패턴 등을 파악하고 이후 전처리를 어떻게 할 지에 대해서 구체화시킨다.\n",
        "\n",
        "1. 변수\n",
        "\n",
        "2. 이상값 확인\n",
        "\n",
        "3. 상관계수\n",
        "\n",
        "4. train & test 데이터 합쳐주기"
      ],
      "metadata": {
        "id": "NGeJyYuDv_gu"
      }
    }
  ]
}