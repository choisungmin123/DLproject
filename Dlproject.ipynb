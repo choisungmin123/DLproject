{
  "nbformat": 4,
  "nbformat_minor": 0,
  "metadata": {
    "colab": {
      "provenance": [],
      "authorship_tag": "ABX9TyNWEpJr12w3o2TFZH0+5rbY",
      "include_colab_link": true
    },
    "kernelspec": {
      "name": "python3",
      "display_name": "Python 3"
    },
    "language_info": {
      "name": "python"
    }
  },
  "cells": [
    {
      "cell_type": "markdown",
      "metadata": {
        "id": "view-in-github",
        "colab_type": "text"
      },
      "source": [
        "<a href=\"https://colab.research.google.com/github/choisungmin123/DLproject/blob/main/Dlproject.ipynb\" target=\"_parent\"><img src=\"https://colab.research.google.com/assets/colab-badge.svg\" alt=\"Open In Colab\"/></a>"
      ]
    },
    {
      "cell_type": "markdown",
      "source": [
        "#프로젝트 제안서\n",
        "\n",
        "##참고 프로젝트 개요\n",
        "\n",
        "ㄴ상황에 따라 변하는 주택가격 예측\n",
        "\n",
        "##선택 이유\n",
        "\n",
        "ㄴ퍼셉트론으로 구현하기 적합한 주제라고 생각했기 때문\n",
        "\n",
        "##모델 설명\n",
        "\n",
        "ㄴ주택 가격 예측 문제를 stacking 테크닉을 사용하여 좋은 결과를 내는 과정\n",
        "\n",
        "##해당 프로젝트 데이터 셋 설명\n",
        "\n",
        "ㄴ주택의 위치, 면적, 방 개수,건축 연도, 토지 면적 등의 데이터 셋을 필요로함"
      ],
      "metadata": {
        "id": "vLtdpvhcW0d9"
      }
    }
  ]
}